{
 "cells": [
  {
   "cell_type": "code",
   "execution_count": 3,
   "id": "696140ff-4248-4181-a235-9525904740dd",
   "metadata": {},
   "outputs": [],
   "source": [
    "import requests\n",
    "from bs4 import BeautifulSoup\n",
    "import pandas as pd"
   ]
  },
  {
   "cell_type": "code",
   "execution_count": 67,
   "id": "c8cd99df-c854-4f40-8c5d-6f5dcf40e16b",
   "metadata": {},
   "outputs": [],
   "source": [
    "result = pd.DataFrame()\n",
    "\n",
    "for year in range(2000, 2022):\n",
    "\n",
    "    url = f\"https://www.basketball-reference.com/awards/awards_{year}.html#mvp\"\n",
    "    response = requests.get(url)\n",
    "    soup = BeautifulSoup(response.content, 'html.parser')\n",
    "    \n",
    "    # find the MVP table\n",
    "    table = soup.select_one('#div_mvp table')\n",
    "    \n",
    "    if table:\n",
    "        df = pd.read_html(str(table), header=1)[0]  # use header=1 to start at the correct row\n",
    "        \n",
    "        # drop extra rows\n",
    "        df = df.dropna(subset=['Rank']) \n",
    "        \n",
    "        # add season column\n",
    "        df['season'] = year\n",
    "        \n",
    "        # append reuslt\n",
    "        result = pd.concat([result, df], ignore_index=True)\n",
    "\n",
    "# save in csv file\n",
    "result.to_csv(\"mvpdata.csv\", index=False)"
   ]
  }
 ],
 "metadata": {
  "kernelspec": {
   "display_name": "Python 3 (ipykernel)",
   "language": "python",
   "name": "python3"
  },
  "language_info": {
   "codemirror_mode": {
    "name": "ipython",
    "version": 3
   },
   "file_extension": ".py",
   "mimetype": "text/x-python",
   "name": "python",
   "nbconvert_exporter": "python",
   "pygments_lexer": "ipython3",
   "version": "3.12.7"
  }
 },
 "nbformat": 4,
 "nbformat_minor": 5
}
